{
 "cells": [
  {
   "cell_type": "code",
   "execution_count": 1,
   "metadata": {},
   "outputs": [],
   "source": [
    "from flask import Flask, render_template, request, jsonify, send_file\n",
    "from dotenv import load_dotenv\n",
    "from openai import OpenAI\n",
    "from pathlib import Path\n",
    "from datetime import datetime\n",
    "\n",
    "import openai\n",
    "import os\n",
    "import json\n",
    "import threading\n",
    "import pyaudio\n",
    "import wave\n",
    "import time"
   ]
  },
  {
   "cell_type": "code",
   "execution_count": 2,
   "metadata": {},
   "outputs": [],
   "source": [
    "load_dotenv()\n",
    "app = Flask(__name__)\n",
    "openai.api_key = os.getenv('OPENAI_API_KEY')  # Replace with your actual OpenAI API key\n",
    "client = OpenAI()"
   ]
  },
  {
   "cell_type": "code",
   "execution_count": 13,
   "metadata": {},
   "outputs": [],
   "source": [
    "file1 = client.files.create(\n",
    "    file=open(\"C:/Users/jatin/Downloads/SWE_Exhibitor_Information.pdf\", \"rb\"),\n",
    "    purpose='assistants'\n",
    ")"
   ]
  },
  {
   "cell_type": "code",
   "execution_count": 16,
   "metadata": {},
   "outputs": [],
   "source": [
    "assistant = client.beta.assistants.create(\n",
    "        name=\"Exhibitor Assistant\",\n",
    "        instructions=\"You are an greeter at the SWE 2023 conference.\",\n",
    "        model=\"gpt-4-1106-preview\",\n",
    "        tools=[{\"type\": \"code_interpreter\"},{\"type\":\"retrieval\"}],\n",
    "        file_ids=[file1.id])"
   ]
  },
  {
   "cell_type": "code",
   "execution_count": 17,
   "metadata": {},
   "outputs": [],
   "source": [
    "thread = client.beta.threads.create()"
   ]
  },
  {
   "cell_type": "code",
   "execution_count": 35,
   "metadata": {},
   "outputs": [],
   "source": [
    "message = client.beta.threads.messages.create(\n",
    "    thread_id=thread.id,\n",
    "    role=\"user\",\n",
    "    content=\"what is SWE 2023\"\n",
    ")"
   ]
  },
  {
   "cell_type": "code",
   "execution_count": 38,
   "metadata": {},
   "outputs": [
    {
     "name": "stdout",
     "output_type": "stream",
     "text": [
      "SWE 2023 refers to the Society of Women Engineers' annual conference for the year 2023, and it is also known as WE23. This event is a significant gathering for women in the engineering field, offering numerous opportunities for professional development, networking, sharing knowledge, and showcasing technological advancements. The theme for WE23 is \"Live Without Limits,\" and it is meant to inspire attendees to pursue their professional goals without constraints.\n",
      "\n",
      "The conference typically includes various activities such as:\n",
      "\n",
      "- Keynote speeches from notable figures in engineering and technology.\n",
      "- Workshops and seminars focused on technical skills, leadership, and career advancement.\n",
      "- Panel discussions on current trends and emerging issues within the engineering sector.\n",
      "- Networking events allowing participants to connect with fellow engineers and potential employers.\n",
      "- A career fair featuring companies and organizations interested in recruiting engineering talent.\n",
      "- Technical presentations and paper sessions highlighting recent research and innovations in the field.\n",
      "\n",
      "WE23 is part of the Society of Women Engineers' broader mission to support women to achieve full potential in careers as engineers and leaders, expand the image of the engineering and technology professions, and demonstrate the value of diversity.\n",
      "\n",
      "For the SWE 2023 event specifically, it is scheduled to take place from October 26-28, 2023, in Los Angeles, California, and includes a comprehensive agenda designed to cater to both early-career and experienced professionals in the field of engineering.\n",
      "\n",
      "If you need further details or specific information about SWE 2023, please let me know, and I can look into the file you provided for more in-depth insights.\n"
     ]
    }
   ],
   "source": [
    "run = client.beta.threads.runs.create(\n",
    "    thread_id=thread.id,\n",
    "    assistant_id=assistant.id\n",
    ")\n",
    "\n",
    "runStatus = client.beta.threads.runs.retrieve(thread_id=thread.id,run_id=run.id)\n",
    "while run.status != \"completed\":\n",
    "    time.sleep(1)\n",
    "    runStatus = client.beta.threads.runs.retrieve(thread_id=thread.id,run_id=run.id)\n",
    "    if runStatus.status == \"completed\":\n",
    "        break\n",
    "\n",
    "responses = client.beta.threads.messages.list(\n",
    "    thread_id=thread.id\n",
    ")\n",
    "print(responses.data[0].content[0].text.value)"
   ]
  },
  {
   "cell_type": "code",
   "execution_count": 22,
   "metadata": {},
   "outputs": [
    {
     "name": "stdout",
     "output_type": "stream",
     "text": [
      "Run(id='run_5z8wxOex3OlbCknco6s42G47', assistant_id='asst_EEBLH3jtrvnxEOsyqA257CUA', cancelled_at=None, completed_at=1700617250, created_at=1700617228, expires_at=None, failed_at=None, file_ids=['file-xZG5vQ6pOV6kAbdgKkZgnDOu'], instructions='You are an greeter at the SWE 2023 conference.', last_error=None, metadata={}, model='gpt-4-1106-preview', object='thread.run', required_action=None, started_at=1700617228, status='completed', thread_id='thread_uCJRH85vBY72HpPDwnPVjjMD', tools=[ToolAssistantToolsCode(type='code_interpreter'), ToolAssistantToolsRetrieval(type='retrieval')])\n",
      "completed\n"
     ]
    }
   ],
   "source": [
    "runStatus = client.beta.threads.runs.retrieve(\n",
    "    thread_id=thread.id,\n",
    "    run_id=run.id\n",
    ")\n",
    "print(runStatus)\n",
    "print(runStatus.status)"
   ]
  },
  {
   "cell_type": "code",
   "execution_count": 34,
   "metadata": {},
   "outputs": [
    {
     "name": "stdout",
     "output_type": "stream",
     "text": [
      "SyncCursorPage[ThreadMessage](data=[ThreadMessage(id='msg_WqI8hfd0c8ctz39kLvLa4kuu', assistant_id='asst_EEBLH3jtrvnxEOsyqA257CUA', content=[MessageContentText(text=Text(annotations=[], value='The SWE 2023 conference, also known as WE23, is themed \"Live Without Limits\" and is scheduled to take place from October 26-28, 2023 in Los Angeles, California. Some highlights of the conference include:\\n\\n- Interactive workshops focused on leadership and engineering.\\n- Opportunities for networking and gaining career insights.\\n- Engagement with industry leaders on innovation.\\n- Hands-on demonstrations and showcases of cutting-edge technology.\\n- Panel discussions on emerging trends and best practices.\\n- Sessions tailored for early-career professionals and aspiring leaders.\\n- Emphasis on nurturing growth, networking, and career development.\\n\\nThis event is a part of the Society of Women Engineers\\' mission to empower women in engineering and leadership, expand the image of the engineering profession, and demonstrate the value of diversity and inclusion. WE23 appears to be a major gathering aimed at supporting professional excellence and providing a global inclusive community for women in engineering and technology.'), type='text')], created_at=1700617242, file_ids=[], metadata={}, object='thread.message', role='assistant', run_id='run_5z8wxOex3OlbCknco6s42G47', thread_id='thread_uCJRH85vBY72HpPDwnPVjjMD'), ThreadMessage(id='msg_JJacfaggTTf2J7v0MnA5K6hs', assistant_id='asst_EEBLH3jtrvnxEOsyqA257CUA', content=[MessageContentText(text=Text(annotations=[], value='The SWE 2023 conference likely refers to an event organized by the Society of Women Engineers (SWE), a nonprofit educational and service organization that supports women to achieve their full potential in careers as engineers and leaders. Since the SWE holds annual conferences, this particular one would be for the year 2023.\\n\\nThese conferences typically include a wide range of activities, such as:\\n\\n1. Keynote speeches from prominent women in the engineering field.\\n2. Workshops and seminars focusing on professional development.\\n3. Career fairs providing networking opportunities with potential employers.\\n4. Technical presentations and papers from various engineering disciplines.\\n5. Award ceremonies recognizing the achievements of women engineers.\\n6. Sessions on outreach and advocacy for women in STEM.\\n\\nGiven the name and usual format of these events, the SWE 2023 conference would likely aim to connect women engineers, provide career guidance, showcase innovations and research, and discuss issues relevant to women in the STEM fields. \\n\\nSince I have a specific file that might contain information about the SWE 2023 conference, I can search within that file to provide you with more precise details about the event. Let\\'s start by searching the file for the term \"SWE 2023\" to locate relevant information.'), type='text')], created_at=1700617229, file_ids=[], metadata={}, object='thread.message', role='assistant', run_id='run_5z8wxOex3OlbCknco6s42G47', thread_id='thread_uCJRH85vBY72HpPDwnPVjjMD'), ThreadMessage(id='msg_nS991HcVXUE6LkhpGnv2dRhL', assistant_id=None, content=[MessageContentText(text=Text(annotations=[], value='tell me about SWE 2023'), type='text')], created_at=1700617213, file_ids=[], metadata={}, object='thread.message', role='user', run_id=None, thread_id='thread_uCJRH85vBY72HpPDwnPVjjMD')], object='list', first_id='msg_WqI8hfd0c8ctz39kLvLa4kuu', last_id='msg_nS991HcVXUE6LkhpGnv2dRhL', has_more=False)\n",
      "[MessageContentText(text=Text(annotations=[], value='The SWE 2023 conference, also known as WE23, is themed \"Live Without Limits\" and is scheduled to take place from October 26-28, 2023 in Los Angeles, California. Some highlights of the conference include:\\n\\n- Interactive workshops focused on leadership and engineering.\\n- Opportunities for networking and gaining career insights.\\n- Engagement with industry leaders on innovation.\\n- Hands-on demonstrations and showcases of cutting-edge technology.\\n- Panel discussions on emerging trends and best practices.\\n- Sessions tailored for early-career professionals and aspiring leaders.\\n- Emphasis on nurturing growth, networking, and career development.\\n\\nThis event is a part of the Society of Women Engineers\\' mission to empower women in engineering and leadership, expand the image of the engineering profession, and demonstrate the value of diversity and inclusion. WE23 appears to be a major gathering aimed at supporting professional excellence and providing a global inclusive community for women in engineering and technology.'), type='text')]\n",
      "The SWE 2023 conference, also known as WE23, is themed \"Live Without Limits\" and is scheduled to take place from October 26-28, 2023 in Los Angeles, California. Some highlights of the conference include:\n",
      "\n",
      "- Interactive workshops focused on leadership and engineering.\n",
      "- Opportunities for networking and gaining career insights.\n",
      "- Engagement with industry leaders on innovation.\n",
      "- Hands-on demonstrations and showcases of cutting-edge technology.\n",
      "- Panel discussions on emerging trends and best practices.\n",
      "- Sessions tailored for early-career professionals and aspiring leaders.\n",
      "- Emphasis on nurturing growth, networking, and career development.\n",
      "\n",
      "This event is a part of the Society of Women Engineers' mission to empower women in engineering and leadership, expand the image of the engineering profession, and demonstrate the value of diversity and inclusion. WE23 appears to be a major gathering aimed at supporting professional excellence and providing a global inclusive community for women in engineering and technology.\n"
     ]
    }
   ],
   "source": [
    "responses = client.beta.threads.messages.list(\n",
    "    thread_id=thread.id\n",
    ")\n",
    "print(responses)\n",
    "print(responses.data[0].content)\n",
    "print(responses.data[0].content[0].text.value)"
   ]
  },
  {
   "cell_type": "code",
   "execution_count": 28,
   "metadata": {},
   "outputs": [
    {
     "ename": "AttributeError",
     "evalue": "'list' object has no attribute 'MessageContentText'",
     "output_type": "error",
     "traceback": [
      "\u001b[1;31m---------------------------------------------------------------------------\u001b[0m",
      "\u001b[1;31mAttributeError\u001b[0m                            Traceback (most recent call last)",
      "\u001b[1;32mc:\\Users\\jatin\\Documents\\AI\\base_1\\test_assistant.ipynb Cell 10\u001b[0m line \u001b[0;36m1\n\u001b[1;32m----> <a href='vscode-notebook-cell:/c%3A/Users/jatin/Documents/AI/base_1/test_assistant.ipynb#X13sZmlsZQ%3D%3D?line=0'>1</a>\u001b[0m \u001b[39mprint\u001b[39m(responses\u001b[39m.\u001b[39;49mdata[\u001b[39m0\u001b[39;49m]\u001b[39m.\u001b[39;49mcontent\u001b[39m.\u001b[39;49mMessageContentText)\n",
      "\u001b[1;31mAttributeError\u001b[0m: 'list' object has no attribute 'MessageContentText'"
     ]
    }
   ],
   "source": [
    "print(responses.data[0].content.MessageContentText)"
   ]
  }
 ],
 "metadata": {
  "kernelspec": {
   "display_name": "venv_ai",
   "language": "python",
   "name": "python3"
  },
  "language_info": {
   "codemirror_mode": {
    "name": "ipython",
    "version": 3
   },
   "file_extension": ".py",
   "mimetype": "text/x-python",
   "name": "python",
   "nbconvert_exporter": "python",
   "pygments_lexer": "ipython3",
   "version": "3.12.0"
  }
 },
 "nbformat": 4,
 "nbformat_minor": 2
}
